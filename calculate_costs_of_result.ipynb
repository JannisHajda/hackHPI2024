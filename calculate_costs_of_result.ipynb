{
 "cells": [
  {
   "cell_type": "code",
   "execution_count": 1,
   "metadata": {},
   "outputs": [],
   "source": [
    "import json"
   ]
  },
  {
   "cell_type": "code",
   "execution_count": 2,
   "metadata": {},
   "outputs": [],
   "source": [
    "systems = json.load(open('./data/systems.json'))\n",
    "data = json.load(open('./graph.json'))"
   ]
  },
  {
   "cell_type": "code",
   "execution_count": 3,
   "metadata": {},
   "outputs": [],
   "source": [
    "buildings = data['buildings']\n",
    "graph = data['graph']\n",
    "edges = [edge for node in graph for edge in node['children']]"
   ]
  },
  {
   "cell_type": "code",
   "execution_count": 4,
   "metadata": {},
   "outputs": [],
   "source": [
    "output = json.load(open('./our_output.json'))"
   ]
  },
  {
   "cell_type": "code",
   "execution_count": 5,
   "metadata": {},
   "outputs": [],
   "source": [
    "total_output = {\n",
    "    \"buildings\": [],\n",
    "    \"outliers\": [],\n",
    "    \"pumps\": [],\n",
    "    \"connections\": [],\n",
    "}\n",
    "for cluster in output[\"clusters\"]:\n",
    "    total_output[\"buildings\"].extend(cluster['buildings'])\n",
    "    total_output[\"outliers\"].extend(cluster['buildings'])\n",
    "    total_output[\"pumps\"].extend(cluster['pumps'])\n",
    "    total_output[\"connections\"].extend(cluster['connections'])"
   ]
  },
  {
   "cell_type": "code",
   "execution_count": 6,
   "metadata": {},
   "outputs": [
    {
     "data": {
      "text/plain": [
       "34922"
      ]
     },
     "execution_count": 6,
     "metadata": {},
     "output_type": "execute_result"
    }
   ],
   "source": [
    "len(buildings)"
   ]
  },
  {
   "cell_type": "code",
   "execution_count": 7,
   "metadata": {},
   "outputs": [
    {
     "data": {
      "text/plain": [
       "11103"
      ]
     },
     "execution_count": 7,
     "metadata": {},
     "output_type": "execute_result"
    }
   ],
   "source": [
    "# depends on consumption in the close neighbourhood (maybe in cluster)\n",
    "num_total_pumps = len(total_output[\"pumps\"])\n",
    "num_heatpumps_s = 0\n",
    "num_heatpumps_m = 1/4 * num_total_pumps\n",
    "num_heatpumps_l = 3/4 * num_total_pumps\n",
    "num_total_pumps"
   ]
  },
  {
   "cell_type": "code",
   "execution_count": 8,
   "metadata": {},
   "outputs": [],
   "source": [
    "# unused\n",
    "distrinct_heating_creator = 0\n",
    "district_heating_connection = 0\n",
    "heating_element = 0"
   ]
  },
  {
   "cell_type": "code",
   "execution_count": 9,
   "metadata": {},
   "outputs": [],
   "source": [
    "# depends on consumption of the houses it is connected to\n",
    "# i can always building big ones...\n",
    "district_heating_lines = len(total_output[\"connections\"])\n",
    "average_len = sum([edge['Distance'] for edge in edges])/len(edges)\n",
    "num_district_heating_line_s = 1/8*district_heating_lines\n",
    "num_district_heating_line_m = 1/2*district_heating_lines\n",
    "num_district_heating_line_l = 3/8*district_heating_lines\n",
    "\n",
    "district_heating_line_s = num_district_heating_line_s*average_len\n",
    "district_heating_line_m = num_district_heating_line_m*average_len\n",
    "district_heating_line_l = num_district_heating_line_l*average_len\n",
    "\n",
    "# TODO: lines loose heat when they are longer"
   ]
  },
  {
   "cell_type": "code",
   "execution_count": 10,
   "metadata": {},
   "outputs": [],
   "source": [
    "oil_boiler = len(total_output['connections']) # outliers (for now), ggf. photovoltaic\n",
    "solar_thermal = 0 # TODO: Where does it make sense to add solar thermal where green areas are close by?"
   ]
  },
  {
   "cell_type": "code",
   "execution_count": 11,
   "metadata": {},
   "outputs": [],
   "source": [
    "transformer = len([building for building in buildings if building['type'] == 'industrial']) # buildings + outliers that are of type 'industrial'\n",
    "house_connection = len(buildings) - transformer # rest of the buildings + outliers"
   ]
  },
  {
   "cell_type": "code",
   "execution_count": 12,
   "metadata": {},
   "outputs": [
    {
     "data": {
      "text/plain": [
       "{'min_electro': 0.6211081327791695,\n",
       " 'max_electro': 2.735186015458376,\n",
       " 'avg_electro': 1.7849042776731052,\n",
       " 'min_heating': 1.4970747780196045,\n",
       " 'max_heating': 2.1692941915686244,\n",
       " 'avg_heating': 1.77463397180194,\n",
       " 'consumption': {'Electro': [0.7025594278931209,\n",
       "   0.6469026695707675,\n",
       "   0.6211081327791695,\n",
       "   0.622077256040198,\n",
       "   0.64014950457892,\n",
       "   0.8098171927105894,\n",
       "   1.40078649697082,\n",
       "   2.014630957794012,\n",
       "   2.153712680294308,\n",
       "   2.1680452007709388,\n",
       "   2.147783279667381,\n",
       "   2.270327214691459,\n",
       "   2.4168153664233447,\n",
       "   2.4229830116730215,\n",
       "   2.1088242537383466,\n",
       "   1.892344853956275,\n",
       "   1.7998320833691437,\n",
       "   1.8420826852139744,\n",
       "   2.3757466371361473,\n",
       "   2.735186015458376,\n",
       "   2.7211531066177783,\n",
       "   2.5276747146305953,\n",
       "   2.215442018985507,\n",
       "   1.5817179031903346],\n",
       "  'Heating': [1.5069381688019838,\n",
       "   1.5087664061049175,\n",
       "   1.5092881962541194,\n",
       "   1.5261084696659908,\n",
       "   1.5632877593302532,\n",
       "   1.6432912463162597,\n",
       "   1.7655880328624702,\n",
       "   1.8337151879920057,\n",
       "   1.9514229296059173,\n",
       "   1.788614515737506,\n",
       "   1.8874658743561157,\n",
       "   1.8147053574951821,\n",
       "   1.8093637386364836,\n",
       "   1.7908422405096547,\n",
       "   1.8588770563459465,\n",
       "   1.8719630714762234,\n",
       "   1.8232388651768328,\n",
       "   1.9228159724218201,\n",
       "   2.0172640228701995,\n",
       "   2.1692941915686244,\n",
       "   1.9395061293216176,\n",
       "   1.8307218549553366,\n",
       "   1.7610612574215059,\n",
       "   1.4970747780196045]}}"
      ]
     },
     "execution_count": 12,
     "metadata": {},
     "output_type": "execute_result"
    }
   ],
   "source": [
    "buildings[0]['summer_consumption']"
   ]
  },
  {
   "cell_type": "code",
   "execution_count": 13,
   "metadata": {},
   "outputs": [
    {
     "data": {
      "text/plain": [
       "[0.7025594278931209,\n",
       " 0.6469026695707675,\n",
       " 0.6211081327791695,\n",
       " 0.622077256040198,\n",
       " 0.64014950457892,\n",
       " 0.8098171927105894,\n",
       " 1.40078649697082,\n",
       " 2.014630957794012,\n",
       " 2.153712680294308,\n",
       " 2.1680452007709388,\n",
       " 2.147783279667381,\n",
       " 2.270327214691459,\n",
       " 2.4168153664233447,\n",
       " 2.4229830116730215,\n",
       " 2.1088242537383466,\n",
       " 1.892344853956275,\n",
       " 1.7998320833691437,\n",
       " 1.8420826852139744,\n",
       " 2.3757466371361473,\n",
       " 2.735186015458376,\n",
       " 2.7211531066177783,\n",
       " 2.5276747146305953,\n",
       " 2.215442018985507,\n",
       " 1.5817179031903346]"
      ]
     },
     "execution_count": 13,
     "metadata": {},
     "output_type": "execute_result"
    }
   ],
   "source": [
    "buildings[0]['summer_consumption']['consumption']['Electro']"
   ]
  },
  {
   "cell_type": "code",
   "execution_count": 14,
   "metadata": {},
   "outputs": [],
   "source": [
    "for building in buildings:\n",
    "    if not building['summer_consumption']['consumption']['Heating']:\n",
    "        building['summer_consumption']['consumption']['Heating'] = []\n",
    "    if not building['winter_consumption']['consumption']['Heating']:\n",
    "        building['winter_consumption']['consumption']['Heating'] = []"
   ]
  },
  {
   "cell_type": "code",
   "execution_count": 15,
   "metadata": {},
   "outputs": [
    {
     "data": {
      "text/plain": [
       "26.689577306977935"
      ]
     },
     "execution_count": 15,
     "metadata": {},
     "output_type": "execute_result"
    }
   ],
   "source": [
    "photovoltaic = 0 # how much consumption do we need and how many areas do we have (-solar_thermal)?\n",
    "total_building_consumption = sum([(sum(building['summer_consumption']['consumption']['Electro']) if isinstance(building['summer_consumption']['consumption']['Electro'], list) else building['summer_consumption']['consumption']['Electro']) + \n",
    "                         (sum(building['winter_consumption']['consumption']['Electro']) if isinstance(building['winter_consumption']['consumption']['Electro'], list) else building['winter_consumption']['consumption']['Electro']) \n",
    "                         for building in buildings]) / 48\n",
    "total_heating_consumption = (sum([(sum(building['summer_consumption']['consumption']['Heating']) if isinstance(building['summer_consumption']['consumption']['Heating'], list) else building['summer_consumption']['consumption']['Heating']) + \n",
    "                         (sum(building['winter_consumption']['consumption']['Heating']) if isinstance(building['winter_consumption']['consumption']['Heating'], list) else building['winter_consumption']['consumption']['Heating']) \n",
    "                         for building in buildings]) * 1.05 / 3) / 48\n",
    "total_consumption = total_building_consumption + total_heating_consumption\n",
    "electric_powerplant = total_consumption/10000 - photovoltaic # total_consumption/10000 - photovoltaic (one powerplant produces 10000 unit of energy)\n",
    "electric_powerplant"
   ]
  },
  {
   "cell_type": "code",
   "execution_count": 16,
   "metadata": {},
   "outputs": [],
   "source": [
    "# we only need to do storage when we start doing photovoltaic/solarthermal\n",
    "electricity_storage = 0 # we need to store the difference between the average and the maximum consumption\n",
    "heat_storage = 0 # we need to store the difference between the average and the maximum consumption"
   ]
  },
  {
   "cell_type": "code",
   "execution_count": 17,
   "metadata": {},
   "outputs": [
    {
     "data": {
      "text/plain": [
       "808887466.8778803"
      ]
     },
     "execution_count": 17,
     "metadata": {},
     "output_type": "execute_result"
    }
   ],
   "source": [
    "total_invest = heat_storage * systems['storages']['HeatStorage']['invest'] + \\\n",
    "    electricity_storage * systems['storages']['ElectricityStorage']['invest'] + \\\n",
    "    electric_powerplant * systems['supplier']['ElectricPowerPlant']['invest'] + \\\n",
    "    photovoltaic * systems['supplier']['Photovoltaics']['invest'] + \\\n",
    "    house_connection * systems['supplier']['HouseConnection']['invest'] + \\\n",
    "    transformer * systems['supplier']['Transformer']['invest'] + \\\n",
    "    oil_boiler * systems['supplier']['OilBoiler']['invest'] + \\\n",
    "    num_heatpumps_s * systems['supplier']['Heatpump AirWater (small)']['invest'] + \\\n",
    "    num_heatpumps_m * systems['supplier']['Heatpump AirWater (medium)']['invest'] + \\\n",
    "    num_heatpumps_l * systems['supplier']['Heatpump AirWater (big)']['invest'] + \\\n",
    "    district_heating_line_s * systems['line']['DistrictHeatingLine (small)']['investPerM'] + \\\n",
    "    district_heating_line_m * systems['line']['DistrictHeatingLine (medium)']['investPerM'] + \\\n",
    "    district_heating_line_l * systems['line']['DistrictHeatingLine (big)']['investPerM']\n",
    "total_invest"
   ]
  },
  {
   "cell_type": "code",
   "execution_count": 18,
   "metadata": {},
   "outputs": [
    {
     "data": {
      "text/plain": [
       "5050.876518242"
      ]
     },
     "execution_count": 18,
     "metadata": {},
     "output_type": "execute_result"
    }
   ],
   "source": [
    "total_operating = heat_storage * systems['storages']['HeatStorage']['operatingCost'] + \\\n",
    "    electricity_storage * systems['storages']['ElectricityStorage']['operatingCost'] + \\\n",
    "    electric_powerplant * systems['supplier']['ElectricPowerPlant']['operatingCost'] + \\\n",
    "    photovoltaic * systems['supplier']['Photovoltaics']['operatingCost'] + \\\n",
    "    house_connection * systems['supplier']['HouseConnection']['operatingCost'] + \\\n",
    "    transformer * systems['supplier']['Transformer']['operatingCost'] + \\\n",
    "    oil_boiler * systems['supplier']['OilBoiler']['operatingCost'] + \\\n",
    "    num_heatpumps_s * systems['supplier']['Heatpump AirWater (small)']['operatingCost'] + \\\n",
    "    num_heatpumps_m * systems['supplier']['Heatpump AirWater (medium)']['operatingCost'] + \\\n",
    "    num_heatpumps_l * systems['supplier']['Heatpump AirWater (big)']['operatingCost'] + \\\n",
    "    num_district_heating_line_s * systems['line']['DistrictHeatingLine (small)']['operatingCost'] + \\\n",
    "    num_district_heating_line_m * systems['line']['DistrictHeatingLine (medium)']['operatingCost'] + \\\n",
    "    num_district_heating_line_l * systems['line']['DistrictHeatingLine (big)']['operatingCost']\n",
    "total_operating"
   ]
  },
  {
   "cell_type": "code",
   "execution_count": 19,
   "metadata": {},
   "outputs": [
    {
     "data": {
      "text/plain": [
       "1106899588.9727345"
      ]
     },
     "execution_count": 19,
     "metadata": {},
     "output_type": "execute_result"
    }
   ],
   "source": [
    "total_operating * 24 * 365.25 * 25"
   ]
  },
  {
   "cell_type": "code",
   "execution_count": 20,
   "metadata": {},
   "outputs": [
    {
     "data": {
      "text/plain": [
       "10089.475830922791"
      ]
     },
     "execution_count": 20,
     "metadata": {},
     "output_type": "execute_result"
    }
   ],
   "source": [
    "total_co2 = heat_storage * systems['storages']['HeatStorage']['co2'] + \\\n",
    "    electricity_storage * systems['storages']['ElectricityStorage']['co2'] + \\\n",
    "    electric_powerplant * systems['supplier']['ElectricPowerPlant']['co2'] + \\\n",
    "    photovoltaic * systems['supplier']['Photovoltaics']['co2'] + \\\n",
    "    house_connection * systems['supplier']['HouseConnection']['co2'] + \\\n",
    "    transformer * systems['supplier']['Transformer']['co2'] + \\\n",
    "    oil_boiler * systems['supplier']['OilBoiler']['co2'] + \\\n",
    "    num_heatpumps_s * systems['supplier']['Heatpump AirWater (small)']['co2'] + \\\n",
    "    num_heatpumps_m * systems['supplier']['Heatpump AirWater (medium)']['co2'] + \\\n",
    "    num_heatpumps_l * systems['supplier']['Heatpump AirWater (big)']['co2'] + \\\n",
    "    num_district_heating_line_s * systems['line']['DistrictHeatingLine (small)']['co2'] + \\\n",
    "    num_district_heating_line_m * systems['line']['DistrictHeatingLine (medium)']['co2'] + \\\n",
    "    num_district_heating_line_l * systems['line']['DistrictHeatingLine (big)']['co2']\n",
    "total_co2"
   ]
  },
  {
   "cell_type": "code",
   "execution_count": 21,
   "metadata": {},
   "outputs": [
    {
     "data": {
      "text/plain": [
       "2211108628.3467298"
      ]
     },
     "execution_count": 21,
     "metadata": {},
     "output_type": "execute_result"
    }
   ],
   "source": [
    "total_co2 * 24 * 365.25 * 25"
   ]
  }
 ],
 "metadata": {
  "kernelspec": {
   "display_name": "bmsml",
   "language": "python",
   "name": "python3"
  },
  "language_info": {
   "codemirror_mode": {
    "name": "ipython",
    "version": 3
   },
   "file_extension": ".py",
   "mimetype": "text/x-python",
   "name": "python",
   "nbconvert_exporter": "python",
   "pygments_lexer": "ipython3",
   "version": "3.12.0"
  }
 },
 "nbformat": 4,
 "nbformat_minor": 2
}
