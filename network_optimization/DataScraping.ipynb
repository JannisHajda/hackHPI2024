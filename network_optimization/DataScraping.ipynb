{
 "cells": [
  {
   "cell_type": "code",
   "execution_count": 12,
   "id": "initial_id",
   "metadata": {
    "collapsed": true,
    "ExecuteTime": {
     "end_time": "2024-04-04T14:31:00.290333Z",
     "start_time": "2024-04-04T14:31:00.284332Z"
    }
   },
   "outputs": [],
   "source": [
    "import os\n",
    "import requests\n",
    "import dataclasses\n",
    "import uuid\n",
    "from objects import Coordinate, Shapes\n",
    "import json\n",
    "from mapping import map_to_usage_type, map_to_highway_type, map_to_building_type\n",
    "import geopy.distance"
   ]
  },
  {
   "cell_type": "code",
   "outputs": [],
   "source": [
    "city_name = \"Bremen\"\n",
    "city_name = \"Balgstädt\"\n",
    "city_name = \"Freyburg (Unstrut)\"\n",
    "city_name = \"Berlin\"\n",
    "city_name = \"Potsdam\""
   ],
   "metadata": {
    "collapsed": false,
    "ExecuteTime": {
     "end_time": "2024-04-04T14:31:00.706308Z",
     "start_time": "2024-04-04T14:31:00.702903Z"
    }
   },
   "id": "ec6bf9015f1b512d",
   "execution_count": 13
  },
  {
   "cell_type": "code",
   "outputs": [],
   "source": [
    "def query_land_use(city_name):\n",
    "    # Define the Overpass API query to get land use data for the specified city\n",
    "    overpass_url = \"http://overpass-api.de/api/interpreter\"\n",
    "    overpass_query = f\"\"\"\n",
    "        [out:json];\n",
    "        area[name=\"{city_name}\"]->.searchArea;\n",
    "        (\n",
    "            way(area.searchArea)[\"landuse\"];\n",
    "            relation(area.searchArea)[\"landuse\"];\n",
    "        );\n",
    "        out center;\n",
    "    \"\"\"\n",
    "\n",
    "    # Send the request to Overpass API\n",
    "    response = requests.post(overpass_url, data=overpass_query)\n",
    "\n",
    "    # Check if the request was successful\n",
    "    if response.status_code == 200:\n",
    "        data = response.json()\n",
    "        return data\n",
    "    else:\n",
    "        print(\"Error occurred while fetching data.\")\n",
    "        return None"
   ],
   "metadata": {
    "collapsed": false,
    "ExecuteTime": {
     "end_time": "2024-04-04T14:31:01.235822Z",
     "start_time": "2024-04-04T14:31:01.231898Z"
    }
   },
   "id": "e2d669f7d8b169c6",
   "execution_count": 14
  },
  {
   "cell_type": "code",
   "outputs": [],
   "source": [
    "def query_buildings(city_name):\n",
    "    # Define the Overpass API query to get land use data for the specified city\n",
    "    overpass_url = \"http://overpass-api.de/api/interpreter\"\n",
    "    overpass_query = f\"\"\"\n",
    "        [out:json];\n",
    "        area[name=\"{city_name}\"]->.searchArea;\n",
    "        (\n",
    "          way[\"building\"](area.searchArea);\n",
    "        );\n",
    "        out body;\n",
    "        >;\n",
    "        out skel qt;\n",
    "    \"\"\"\n",
    "\n",
    "    # Send the request to Overpass API\n",
    "    response = requests.post(overpass_url, data=overpass_query)\n",
    "\n",
    "    # Check if the request was successful\n",
    "    if response.status_code == 200:\n",
    "        data = response.json()\n",
    "        return data\n",
    "    else:\n",
    "        print(\"Error occurred while fetching data.\")\n",
    "        return None"
   ],
   "metadata": {
    "collapsed": false,
    "ExecuteTime": {
     "end_time": "2024-04-04T14:31:01.765367Z",
     "start_time": "2024-04-04T14:31:01.761979Z"
    }
   },
   "id": "d8817998b9eb6c08",
   "execution_count": 15
  },
  {
   "cell_type": "code",
   "outputs": [],
   "source": [
    "def query_highways(city_name):\n",
    "    # Define the Overpass API query to get land use data for the specified city\n",
    "    overpass_url = \"http://overpass-api.de/api/interpreter\"\n",
    "    overpass_query = f\"\"\"\n",
    "        [out:json];\n",
    "        area[name=\"{city_name}\"]->.searchArea;\n",
    "        (\n",
    "          way(area.searchArea)[\"highway\"];\n",
    "        );\n",
    "        out center;\n",
    "    \"\"\"\n",
    "\n",
    "    # Send the request to Overpass API\n",
    "    response = requests.post(overpass_url, data=overpass_query)\n",
    "\n",
    "    # Check if the request was successful\n",
    "    if response.status_code == 200:\n",
    "        data = response.json()\n",
    "        return data\n",
    "    else:\n",
    "        print(\"Error occurred while fetching data.\")\n",
    "        return None"
   ],
   "metadata": {
    "collapsed": false,
    "ExecuteTime": {
     "end_time": "2024-04-04T14:31:02.262206Z",
     "start_time": "2024-04-04T14:31:02.258207Z"
    }
   },
   "id": "88f3fabe1edb7a45",
   "execution_count": 16
  },
  {
   "cell_type": "code",
   "outputs": [],
   "source": [
    "def get_nodes(node_ids):\n",
    "    # Convert the list of node IDs into a string for the Overpass API query\n",
    "    ids_str = \",\".join(str(node_id) for node_id in node_ids)\n",
    "    \n",
    "    # Define the Overpass API query to get nodes based on their IDs\n",
    "    overpass_url = \"http://overpass-api.de/api/interpreter\"\n",
    "    overpass_query = f\"\"\"\n",
    "        [out:json];\n",
    "        node(id:{ids_str});\n",
    "        out;\n",
    "    \"\"\"\n",
    "\n",
    "    # Send the request to Overpass API\n",
    "    response = requests.post(overpass_url, data=overpass_query)\n",
    "\n",
    "    # Check if the request was successful\n",
    "    if response.status_code == 200:\n",
    "        data = response.json()\n",
    "        return data\n",
    "    else:\n",
    "        print(\"Error occurred while fetching data.\")\n",
    "        return None"
   ],
   "metadata": {
    "collapsed": false,
    "ExecuteTime": {
     "end_time": "2024-04-04T14:31:02.683196Z",
     "start_time": "2024-04-04T14:31:02.677844Z"
    }
   },
   "id": "9de6a91250403735",
   "execution_count": 17
  },
  {
   "cell_type": "code",
   "outputs": [],
   "source": [
    "def get_relation_geom(relation):\n",
    "    # Define the Overpass API query to get nodes based on their IDs\n",
    "    overpass_url = \"http://overpass-api.de/api/interpreter\"\n",
    "    overpass_query = f\"\"\"\n",
    "        [out:json];\n",
    "        relation({relation});\n",
    "        out geom;\n",
    "    \"\"\"\n",
    "\n",
    "    # Send the request to Overpass API\n",
    "    response = requests.post(overpass_url, data=overpass_query)\n",
    "\n",
    "    # Check if the request was successful\n",
    "    if response.status_code == 200:\n",
    "        data = response.json()\n",
    "        return data\n",
    "    else:\n",
    "        print(\"Error occurred while fetching data.\")\n",
    "        return None"
   ],
   "metadata": {
    "collapsed": false,
    "ExecuteTime": {
     "end_time": "2024-04-04T14:31:03.117573Z",
     "start_time": "2024-04-04T14:31:03.113845Z"
    }
   },
   "id": "2fce0f334f1d5285",
   "execution_count": 18
  },
  {
   "cell_type": "code",
   "outputs": [],
   "source": [
    "areas = query_land_use(city_name)\n",
    "buildings = query_buildings(city_name)\n",
    "highways = query_highways(city_name)"
   ],
   "metadata": {
    "collapsed": false,
    "ExecuteTime": {
     "end_time": "2024-04-04T14:31:20.009781Z",
     "start_time": "2024-04-04T14:31:05.643235Z"
    }
   },
   "id": "9e88fea8b867e250",
   "execution_count": 19
  },
  {
   "cell_type": "markdown",
   "source": [
    "# Preprocess the data"
   ],
   "metadata": {
    "collapsed": false
   },
   "id": "aa9f1393c59eb612"
  },
  {
   "cell_type": "code",
   "outputs": [],
   "source": [
    "all_nodes = {}"
   ],
   "metadata": {
    "collapsed": false,
    "ExecuteTime": {
     "end_time": "2024-04-04T14:31:21.692763Z",
     "start_time": "2024-04-04T14:31:21.567303Z"
    }
   },
   "id": "20dbeac945e1b159",
   "execution_count": 20
  },
  {
   "cell_type": "markdown",
   "source": [
    "## Areas"
   ],
   "metadata": {
    "collapsed": false
   },
   "id": "a446ed56790fd6c2"
  },
  {
   "cell_type": "code",
   "outputs": [],
   "source": [
    "elements = areas.get(\"elements\", [])\n",
    "coordinates_tmp = {}\n",
    "for element in elements:\n",
    "    type = element.get(\"type\")\n",
    "    is_relation = type == \"relation\"\n",
    "    if not is_relation:\n",
    "        nodes = element.get(\"nodes\", [])\n",
    "        for node in nodes:\n",
    "            coordinates_tmp[node] = Coordinate(lat=0, lon=0)\n",
    "            all_nodes[node] = Coordinate(lat=0, lon=0)\n",
    "\n",
    "coordinate_list = list(coordinates_tmp.keys())\n",
    "coordinates_list = get_nodes(coordinate_list)\n",
    "coordinate_ids_map = {}\n",
    "for coordinate in coordinates_list.get(\"elements\", []):\n",
    "    node_id = coordinate.get(\"id\")\n",
    "    lat = coordinate.get(\"lat\")\n",
    "    lon = coordinate.get(\"lon\")\n",
    "    coordinates_tmp[node_id] = Coordinate(lat=lat, lon=lon)\n",
    "    all_nodes[node_id] = Coordinate(lat=lat, lon=lon)\n",
    "coordinates = coordinates_tmp"
   ],
   "metadata": {
    "collapsed": false,
    "ExecuteTime": {
     "end_time": "2024-04-04T14:31:25.547926Z",
     "start_time": "2024-04-04T14:31:22.533396Z"
    }
   },
   "id": "f5deae39ea912b31",
   "execution_count": 21
  },
  {
   "cell_type": "code",
   "outputs": [],
   "source": [
    "area_types = set()\n",
    "area_objects = {}\n",
    "elements = areas.get(\"elements\", [])\n",
    "for element in elements:\n",
    "    type = element.get(\"type\")\n",
    "    is_relation = type == \"relation\"\n",
    "    if not is_relation:\n",
    "        landuse = element.get(\"tags\", {}).get(\"landuse\", \"unknown\")\n",
    "        nodes = element.get(\"nodes\", [])\n",
    "        geometry = [coordinates[node] for node in nodes]\n",
    "        landuse_id = uuid.uuid4()\n",
    "        type = map_to_usage_type(landuse)\n",
    "        area_types.add(type)\n",
    "        landuse_obj = Shapes(id=landuse_id, type=type, geometry=geometry, open=False)\n",
    "        area_objects[landuse_id] = landuse_obj\n",
    "    else:\n",
    "        relation_id = element.get(\"id\")\n",
    "        relation_data = get_relation_geom(relation_id)\n",
    "        rel_element = relation_data.get(\"elements\", [])[0]\n",
    "        members = rel_element.get(\"members\", [])\n",
    "        outer_members = [member for member in members if member.get(\"role\") == \"outer\"]\n",
    "        member_geometries = []\n",
    "        for member in outer_members:\n",
    "            member_geometry = []\n",
    "            geometry = member.get(\"geometry\", [])\n",
    "            for node in geometry:\n",
    "                lat = node.get(\"lat\")\n",
    "                lon = node.get(\"lon\")\n",
    "                member_geometry.append(Coordinate(lat=lat, lon=lon))\n",
    "            member_geometries.append(member_geometry)\n",
    "            \n",
    "        if len(member_geometries) == 0:\n",
    "            continue\n",
    "        \n",
    "        # merge the geometry, so that we have a single geometry, they should be merged by the following:\n",
    "        # 1. take the first member\n",
    "        # 2. take the last node of the first member\n",
    "        # 3. take all first and last nodes of the other members\n",
    "        # 5. find the closest node to the last node of the first member\n",
    "        \n",
    "        def calculate_distance(node1, node2):\n",
    "            lat1 = node1.lat\n",
    "            lon1 = node1.lon\n",
    "            lat2 = node2.lat\n",
    "            lon2 = node2.lon\n",
    "            return geopy.distance.distance((lat1, lon1), (lat2, lon2)).m\n",
    "        final = member_geometries[0]\n",
    "        while len(member_geometries) > 1:\n",
    "            first_member = member_geometries[0]\n",
    "            ref_node = first_member[-1]\n",
    "            member_idx = None\n",
    "            closest_distance = float(\"inf\")\n",
    "            direction = None\n",
    "            for idx, member in enumerate(member_geometries[1:]):\n",
    "                first_node = member[0]\n",
    "                last_node = member[-1]\n",
    "                distance_first = calculate_distance(ref_node, first_node)\n",
    "                distance_last = calculate_distance(ref_node, last_node)\n",
    "                if distance_first < closest_distance:\n",
    "                    closest_distance = distance_first\n",
    "                    member_idx = idx + 1\n",
    "                    direction = \"first\"\n",
    "                if distance_last < closest_distance:\n",
    "                    member_idx = idx + 1\n",
    "                    direction = \"last\"\n",
    "                    \n",
    "            if direction == \"first\":\n",
    "                final.extend(member_geometries[member_idx])\n",
    "            else:\n",
    "                final.extend(member_geometries[member_idx][::-1])\n",
    "                \n",
    "            member_geometries.pop(member_idx)\n",
    "                \n",
    "            \n",
    "        geometry = final\n",
    "        type = rel_element.get(\"tags\", {}).get(\"landuse\", \"unknown\")\n",
    "        landuse_id = uuid.uuid4()\n",
    "        type = map_to_usage_type(type)\n",
    "        area_types.add(type)\n",
    "        landuse_obj = Shapes(id=landuse_id, type=type, geometry=geometry, open=False)\n",
    "        area_objects[landuse_id] = landuse_obj"
   ],
   "metadata": {
    "collapsed": false,
    "ExecuteTime": {
     "end_time": "2024-04-04T14:32:13.254213Z",
     "start_time": "2024-04-04T14:31:25.548920Z"
    }
   },
   "id": "e1a4f577748c3403",
   "execution_count": 22
  },
  {
   "cell_type": "markdown",
   "source": [
    "# get highways"
   ],
   "metadata": {
    "collapsed": false
   },
   "id": "27782e5dbca20e40"
  },
  {
   "cell_type": "code",
   "outputs": [],
   "source": [
    "elements = highways.get(\"elements\", [])\n",
    "coordinates_tmp = {}\n",
    "for element in elements:\n",
    "    type = element.get(\"type\")\n",
    "    is_relation = type == \"relation\"\n",
    "    if not is_relation:\n",
    "        nodes = element.get(\"nodes\", [])\n",
    "        for node in nodes:\n",
    "            coordinates_tmp[node] = Coordinate(lat=0, lon=0)\n",
    "            all_nodes[node] = Coordinate(lat=0, lon=0)\n",
    "\n",
    "coordinate_list = list(coordinates_tmp.keys())\n",
    "coordinates_list = get_nodes(coordinate_list)\n",
    "coordinate_ids_map = {}\n",
    "for coordinate in coordinates_list.get(\"elements\", []):\n",
    "    node_id = coordinate.get(\"id\")\n",
    "    lat = coordinate.get(\"lat\")\n",
    "    lon = coordinate.get(\"lon\")\n",
    "    coordinates_tmp[node_id] = Coordinate(lat=lat, lon=lon)\n",
    "    all_nodes[node_id] = Coordinate(lat=lat, lon=lon)\n",
    "coordinates = coordinates_tmp"
   ],
   "metadata": {
    "collapsed": false,
    "ExecuteTime": {
     "end_time": "2024-04-04T14:32:17.146881Z",
     "start_time": "2024-04-04T14:32:13.255176Z"
    }
   },
   "id": "20265b4c50a01f4f",
   "execution_count": 23
  },
  {
   "cell_type": "code",
   "outputs": [],
   "source": [
    "highways = {}\n",
    "highway_types = set()\n",
    "for element in elements:\n",
    "    street = element.get(\"tags\", {}).get(\"highway\", \"unknown\")\n",
    "    nodes = element.get(\"nodes\", [])\n",
    "    geometry = [coordinates[node] for node in nodes]\n",
    "    highway_id = uuid.uuid4()\n",
    "    type = map_to_highway_type(street)\n",
    "    highway_types.add(type)\n",
    "    highway_obj = Shapes(id=highway_id, type=type, geometry=geometry, open=True)\n",
    "    highways[highway_id] = highway_obj\n",
    "    all_nodes.update({node: coordinates[node] for node in nodes})"
   ],
   "metadata": {
    "collapsed": false,
    "ExecuteTime": {
     "end_time": "2024-04-04T14:32:17.611402Z",
     "start_time": "2024-04-04T14:32:17.147881Z"
    }
   },
   "id": "e16aee71c8692473",
   "execution_count": 24
  },
  {
   "cell_type": "markdown",
   "source": [
    "## Buildings"
   ],
   "metadata": {
    "collapsed": false
   },
   "id": "fe927fc9b86343e"
  },
  {
   "cell_type": "code",
   "outputs": [],
   "source": [
    "elements = buildings.get(\"elements\", [])\n",
    "coordinates_tmp = {}\n",
    "for element in elements:\n",
    "    type = element.get(\"type\")\n",
    "    nodes = element.get(\"nodes\", [])\n",
    "    for node in nodes:\n",
    "        coordinates_tmp[node] = Coordinate(lat=0, lon=0)\n",
    "        all_nodes[node] = Coordinate(lat=0, lon=0)\n",
    "        \n",
    "        \n",
    "coordinate_list = list(coordinates_tmp.keys())\n",
    "coordinates_list = get_nodes(coordinate_list)\n",
    "coordinate_ids_map = {}\n",
    "for coordinate in coordinates_list.get(\"elements\", []):\n",
    "    node_id = coordinate.get(\"id\")\n",
    "    lat = coordinate.get(\"lat\")\n",
    "    lon = coordinate.get(\"lon\")\n",
    "    coordinates_tmp[node_id] = Coordinate(lat=lat, lon=lon)\n",
    "    all_nodes[node_id] = Coordinate(lat=lat, lon=lon)\n",
    "coordinates = coordinates_tmp"
   ],
   "metadata": {
    "collapsed": false,
    "ExecuteTime": {
     "end_time": "2024-04-04T14:32:22.934162Z",
     "start_time": "2024-04-04T14:32:17.611928Z"
    }
   },
   "id": "73e5d173a94eaa2c",
   "execution_count": 25
  },
  {
   "cell_type": "code",
   "outputs": [],
   "source": [
    "def parse_float(value, default):\n",
    "    try:\n",
    "        return float(value)\n",
    "    except:\n",
    "        return default"
   ],
   "metadata": {
    "collapsed": false,
    "ExecuteTime": {
     "end_time": "2024-04-04T14:34:16.407620Z",
     "start_time": "2024-04-04T14:34:16.404582Z"
    }
   },
   "id": "68c0ddc6385c7159",
   "execution_count": 27
  },
  {
   "cell_type": "code",
   "outputs": [],
   "source": [
    "building_types = set()\n",
    "building_meta = {}\n",
    "building_objects = {}\n",
    "elements = buildings.get(\"elements\", [])\n",
    "for element in elements:\n",
    "    type = element.get(\"type\")\n",
    "    is_relation = type == \"relation\"\n",
    "    if not is_relation:\n",
    "        buildingType = element.get(\"tags\", {}).get(\"building\", \"unknown\")\n",
    "        levels = element.get(\"tags\", {}).get(\"building:levels\", 3)\n",
    "        roof_levels = element.get(\"tags\", {}).get(\"roof:levels\", 0)\n",
    "        total_levels = parse_float(levels, 3) + parse_float(roof_levels, 0)\n",
    "        nodes = element.get(\"nodes\", [])\n",
    "        geometry = [coordinates[node] for node in nodes]\n",
    "        building_id = uuid.uuid4()\n",
    "        buildingType = map_to_building_type(buildingType)\n",
    "        building_types.add(buildingType)\n",
    "        building_obj = Shapes(id=building_id, type=buildingType, geometry=geometry, open=False)\n",
    "        building_objects[building_id] = building_obj\n",
    "        building_meta[building_id] = {\n",
    "            \"levels\": total_levels\n",
    "        }\n",
    "    else:\n",
    "        print(\"Relation\")"
   ],
   "metadata": {
    "collapsed": false,
    "ExecuteTime": {
     "end_time": "2024-04-04T14:34:19.608706Z",
     "start_time": "2024-04-04T14:34:17.466440Z"
    }
   },
   "id": "f31f5a209801707b",
   "execution_count": 28
  },
  {
   "cell_type": "markdown",
   "source": [
    "## Output"
   ],
   "metadata": {
    "collapsed": false
   },
   "id": "78415637f98a2f09"
  },
  {
   "cell_type": "code",
   "outputs": [
    {
     "data": {
      "text/plain": "{'other', 'road'}"
     },
     "execution_count": 29,
     "metadata": {},
     "output_type": "execute_result"
    }
   ],
   "source": [
    "highway_types"
   ],
   "metadata": {
    "collapsed": false,
    "ExecuteTime": {
     "end_time": "2024-04-04T14:34:22.582831Z",
     "start_time": "2024-04-04T14:34:22.576321Z"
    }
   },
   "id": "9408fa13b161721d",
   "execution_count": 29
  },
  {
   "cell_type": "code",
   "outputs": [
    {
     "data": {
      "text/plain": "{'construction',\n 'farm',\n 'free_field',\n 'industrial',\n 'other',\n 'residential',\n 'retail',\n 'transport',\n 'water'}"
     },
     "execution_count": 30,
     "metadata": {},
     "output_type": "execute_result"
    }
   ],
   "source": [
    "area_types"
   ],
   "metadata": {
    "collapsed": false,
    "ExecuteTime": {
     "end_time": "2024-04-04T14:34:24.018318Z",
     "start_time": "2024-04-04T14:34:24.014316Z"
    }
   },
   "id": "614873f94322053e",
   "execution_count": 30
  },
  {
   "cell_type": "code",
   "outputs": [
    {
     "data": {
      "text/plain": "{'commercial',\n 'construction',\n 'farm',\n 'high_density_residential',\n 'industrial',\n 'other',\n 'residential',\n 'retail',\n 'transport'}"
     },
     "execution_count": 31,
     "metadata": {},
     "output_type": "execute_result"
    }
   ],
   "source": [
    "building_types"
   ],
   "metadata": {
    "collapsed": false,
    "ExecuteTime": {
     "end_time": "2024-04-04T14:34:24.023315Z",
     "start_time": "2024-04-04T14:34:24.019316Z"
    }
   },
   "id": "8fcadb7a5a5ecef1",
   "execution_count": 31
  },
  {
   "cell_type": "code",
   "outputs": [
    {
     "name": "stdout",
     "output_type": "stream",
     "text": [
      "{'free_field'}\n"
     ]
    }
   ],
   "source": [
    "from mapping import FREE_FIELD, ROAD, get_useable_areas\n",
    "\n",
    "highway_json = {}\n",
    "for id, obj in highways.items():\n",
    "    if obj.type != ROAD:\n",
    "        continue\n",
    "    highway_json[str(id)] = obj.serialize()\n",
    "    \n",
    "area_json = {}\n",
    "serialized_area_types = set()\n",
    "for id, obj in area_objects.items():\n",
    "    if obj.type not in get_useable_areas():\n",
    "        continue\n",
    "    obj.type = FREE_FIELD\n",
    "    serialized = obj.serialize()\n",
    "    serialized_area_types.add(obj.type)\n",
    "    serialized[\"base_area\"] = obj.get_area()\n",
    "    area_json[str(id)] = serialized\n",
    "print(serialized_area_types)"
   ],
   "metadata": {
    "collapsed": false,
    "ExecuteTime": {
     "end_time": "2024-04-04T14:34:41.931396Z",
     "start_time": "2024-04-04T14:34:38.098743Z"
    }
   },
   "id": "5879ce462327598b",
   "execution_count": 33
  },
  {
   "cell_type": "code",
   "outputs": [
    {
     "data": {
      "text/plain": "22515335.780989096"
     },
     "execution_count": 36,
     "metadata": {},
     "output_type": "execute_result"
    }
   ],
   "source": [
    "from mapping import OTHER, get_used_building_types\n",
    "\n",
    "total_area = 0\n",
    "building_json = {}\n",
    "for id, obj in building_objects.items():\n",
    "    if obj.type not in get_used_building_types():\n",
    "        continue\n",
    "    serialized = obj.serialize()\n",
    "    if len(obj.geometry) == 0:\n",
    "        continue\n",
    "    try:\n",
    "        serialized[\"base_area\"] = obj.get_area()\n",
    "    except:\n",
    "        print(obj.geometry)\n",
    "        continue\n",
    "        \n",
    "    serialized[\"levels\"] = building_meta[id][\"levels\"]\n",
    "    serialized[\"area\"] = serialized[\"base_area\"] * serialized[\"levels\"]\n",
    "    total_area += serialized[\"area\"]\n",
    "    building_json[str(id)] = serialized\n",
    "total_area"
   ],
   "metadata": {
    "collapsed": false,
    "ExecuteTime": {
     "end_time": "2024-04-04T14:37:03.539759Z",
     "start_time": "2024-04-04T14:36:19.415843Z"
    }
   },
   "id": "4f759e3c59d781b6",
   "execution_count": 36
  },
  {
   "cell_type": "code",
   "outputs": [
    {
     "data": {
      "text/plain": "1.7931524127613496"
     },
     "execution_count": 46,
     "metadata": {},
     "output_type": "execute_result"
    }
   ],
   "source": [
    "7.964138*total_area*0.1*0.1 / (1000*1000)"
   ],
   "metadata": {
    "collapsed": false,
    "ExecuteTime": {
     "end_time": "2024-04-04T14:44:11.345663Z",
     "start_time": "2024-04-04T14:44:11.341408Z"
    }
   },
   "id": "f3800c305e8a5cad",
   "execution_count": 46
  },
  {
   "cell_type": "code",
   "outputs": [],
   "source": [
    "total = {\n",
    "    \"highways\": highway_json,\n",
    "    \"areas\": area_json,\n",
    "    \"buildings\": building_json\n",
    "}"
   ],
   "metadata": {
    "collapsed": false,
    "ExecuteTime": {
     "end_time": "2024-04-04T14:42:08.380750Z",
     "start_time": "2024-04-04T14:42:08.377490Z"
    }
   },
   "id": "f6e3bfb57c3db185",
   "execution_count": 43
  },
  {
   "cell_type": "code",
   "outputs": [],
   "source": [
    "with open(f\"./data/total_{city_name}.json\", \"w\") as file:\n",
    "    file.write(json.dumps(total, indent=1))"
   ],
   "metadata": {
    "collapsed": false,
    "ExecuteTime": {
     "end_time": "2024-04-04T14:42:12.031900Z",
     "start_time": "2024-04-04T14:42:09.592325Z"
    }
   },
   "id": "af82afbd148ae176",
   "execution_count": 44
  },
  {
   "cell_type": "code",
   "outputs": [
    {
     "data": {
      "text/plain": "322546"
     },
     "execution_count": 45,
     "metadata": {},
     "output_type": "execute_result"
    }
   ],
   "source": [
    "len(list(all_nodes.keys()))"
   ],
   "metadata": {
    "collapsed": false,
    "ExecuteTime": {
     "end_time": "2024-04-04T14:42:13.310532Z",
     "start_time": "2024-04-04T14:42:13.299990Z"
    }
   },
   "id": "d65b3cb16fd87f4c",
   "execution_count": 45
  },
  {
   "cell_type": "code",
   "outputs": [],
   "source": [],
   "metadata": {
    "collapsed": false,
    "ExecuteTime": {
     "end_time": "2024-04-04T11:33:12.237645Z",
     "start_time": "2024-04-04T11:33:12.235501Z"
    }
   },
   "id": "b29384bf85af0c7f",
   "execution_count": 72
  }
 ],
 "metadata": {
  "kernelspec": {
   "display_name": "Python 3",
   "language": "python",
   "name": "python3"
  },
  "language_info": {
   "codemirror_mode": {
    "name": "ipython",
    "version": 2
   },
   "file_extension": ".py",
   "mimetype": "text/x-python",
   "name": "python",
   "nbconvert_exporter": "python",
   "pygments_lexer": "ipython2",
   "version": "2.7.6"
  }
 },
 "nbformat": 4,
 "nbformat_minor": 5
}
