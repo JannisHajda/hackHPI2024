{
 "cells": [
  {
   "cell_type": "code",
   "execution_count": 3,
   "id": "initial_id",
   "metadata": {
    "collapsed": true,
    "ExecuteTime": {
     "end_time": "2024-04-04T16:30:50.802363Z",
     "start_time": "2024-04-04T16:30:50.341191Z"
    }
   },
   "outputs": [],
   "source": [
    "import pandas as pd\n",
    "import json\n",
    "import os"
   ]
  },
  {
   "cell_type": "code",
   "outputs": [],
   "source": [
    "loadprofile_folder = \"./data/loadprofiles/raw\"\n",
    "dfs = {}\n",
    "for file in os.listdir(loadprofile_folder):\n",
    "    if file.endswith(\".xlsx\"):\n",
    "        type = file.replace(\".xlsx\", \"\").replace(\"BRUI_loadprofiles_\", \"\")\n",
    "        df = pd.read_excel(os.path.join(loadprofile_folder, file), skiprows=1)\n",
    "        columns = df.columns\n",
    "        # rename columns that have \"Elektro\" in them to \"Electro\", and \"Wärme\" to \"Heating\"\n",
    "        new_cols = []\n",
    "        for col in columns:\n",
    "            if \"Elektro\" in col:\n",
    "                new_cols.append(\"Electro\")\n",
    "            elif \"Wärme\" in col:\n",
    "                new_cols.append(\"Heating\")\n",
    "            else:\n",
    "                new_cols.append(col)\n",
    "        df.columns = new_cols\n",
    "        new_cols[0] = \"time\"\n",
    "        df.columns = new_cols\n",
    "        df[\"time\"] = pd.to_datetime(df[\"time\"])\n",
    "        \n",
    "        # all columns expect time * 1000\n",
    "        for col in df.columns[1:]:\n",
    "            df[col] = df[col] * 1000\n",
    "        \n",
    "        dfs[type] = df"
   ],
   "metadata": {
    "collapsed": false,
    "ExecuteTime": {
     "end_time": "2024-04-04T16:30:52.790879Z",
     "start_time": "2024-04-04T16:30:50.803358Z"
    }
   },
   "id": "f2a6de4462f79f4b",
   "execution_count": 4
  },
  {
   "cell_type": "code",
   "outputs": [
    {
     "data": {
      "text/plain": "                 time    Electro    Heating\n0 2015-01-01 00:00:00   8.300770  13.756087\n1 2015-01-01 01:00:00   8.627364  13.606379\n2 2015-01-01 02:00:00   9.277860  13.069518\n3 2015-01-01 03:00:00  13.415215  18.524347\n4 2015-01-01 04:00:00  13.431999  23.496397",
      "text/html": "<div>\n<style scoped>\n    .dataframe tbody tr th:only-of-type {\n        vertical-align: middle;\n    }\n\n    .dataframe tbody tr th {\n        vertical-align: top;\n    }\n\n    .dataframe thead th {\n        text-align: right;\n    }\n</style>\n<table border=\"1\" class=\"dataframe\">\n  <thead>\n    <tr style=\"text-align: right;\">\n      <th></th>\n      <th>time</th>\n      <th>Electro</th>\n      <th>Heating</th>\n    </tr>\n  </thead>\n  <tbody>\n    <tr>\n      <th>0</th>\n      <td>2015-01-01 00:00:00</td>\n      <td>8.300770</td>\n      <td>13.756087</td>\n    </tr>\n    <tr>\n      <th>1</th>\n      <td>2015-01-01 01:00:00</td>\n      <td>8.627364</td>\n      <td>13.606379</td>\n    </tr>\n    <tr>\n      <th>2</th>\n      <td>2015-01-01 02:00:00</td>\n      <td>9.277860</td>\n      <td>13.069518</td>\n    </tr>\n    <tr>\n      <th>3</th>\n      <td>2015-01-01 03:00:00</td>\n      <td>13.415215</td>\n      <td>18.524347</td>\n    </tr>\n    <tr>\n      <th>4</th>\n      <td>2015-01-01 04:00:00</td>\n      <td>13.431999</td>\n      <td>23.496397</td>\n    </tr>\n  </tbody>\n</table>\n</div>"
     },
     "execution_count": 5,
     "metadata": {},
     "output_type": "execute_result"
    }
   ],
   "source": [
    "dfs[list(dfs.keys())[0]].head()"
   ],
   "metadata": {
    "collapsed": false,
    "ExecuteTime": {
     "end_time": "2024-04-04T16:30:52.802304Z",
     "start_time": "2024-04-04T16:30:52.791879Z"
    }
   },
   "id": "8e1a3bc83c9c8072",
   "execution_count": 5
  },
  {
   "cell_type": "code",
   "outputs": [],
   "source": [
    "winter_day = \"2015-02-14\"\n",
    "summer_day = \"2015-07-14\""
   ],
   "metadata": {
    "collapsed": false,
    "ExecuteTime": {
     "end_time": "2024-04-04T16:30:52.805389Z",
     "start_time": "2024-04-04T16:30:52.803304Z"
    }
   },
   "id": "21a58d382939d736",
   "execution_count": 6
  },
  {
   "cell_type": "code",
   "outputs": [],
   "source": [
    "for type, df in dfs.items():\n",
    "    df_winter = df[df[\"time\"].dt.date == pd.to_datetime(winter_day).date()]\n",
    "    df_summer = df[df[\"time\"].dt.date == pd.to_datetime(summer_day).date()]\n",
    "    # ignore time column\n",
    "    df_winter = df_winter.drop(columns=[\"time\"])\n",
    "    df_summer = df_summer.drop(columns=[\"time\"])\n",
    "    \n",
    "    winter = {}\n",
    "    summer = {}\n",
    "    \n",
    "    for col in df_winter.columns:\n",
    "        winter[col] = df_winter[col].to_list()\n",
    "        summer[col] = df_summer[col].to_list()\n",
    "    \n",
    "    with open(f\"./data/loadprofiles/winter/{type}.json\", \"w\") as f:\n",
    "        json.dump(winter, f)\n",
    "        \n",
    "    with open(f\"./data/loadprofiles/summer/{type}.json\", \"w\") as f:\n",
    "        json.dump(summer, f)"
   ],
   "metadata": {
    "collapsed": false,
    "ExecuteTime": {
     "end_time": "2024-04-04T16:30:52.855822Z",
     "start_time": "2024-04-04T16:30:52.806387Z"
    }
   },
   "id": "339f523c06c92452",
   "execution_count": 7
  },
  {
   "cell_type": "markdown",
   "source": [
    "# Generate PC potential per m2"
   ],
   "metadata": {
    "collapsed": false
   },
   "id": "7facc208a68fcd3c"
  },
  {
   "cell_type": "code",
   "outputs": [],
   "source": [
    "def pv_potential(direct, diffuse):\n",
    "    return (direct + diffuse) / 1000"
   ],
   "metadata": {
    "collapsed": false,
    "ExecuteTime": {
     "end_time": "2024-04-04T16:34:24.897348Z",
     "start_time": "2024-04-04T16:34:24.893860Z"
    }
   },
   "id": "8f11fec253fc2b6f",
   "execution_count": 27
  },
  {
   "cell_type": "code",
   "outputs": [
    {
     "data": {
      "text/plain": "                    labels    t  B  D\n0  2015-01-01T00:00:00.000  2.7  0  0\n1  2015-01-01T01:00:00.000  1.5  0  0\n2  2015-01-01T02:00:00.000  0.4  0  0\n3  2015-01-01T03:00:00.000  0.4  0  0\n4  2015-01-01T04:00:00.000  0.2  0  0",
      "text/html": "<div>\n<style scoped>\n    .dataframe tbody tr th:only-of-type {\n        vertical-align: middle;\n    }\n\n    .dataframe tbody tr th {\n        vertical-align: top;\n    }\n\n    .dataframe thead th {\n        text-align: right;\n    }\n</style>\n<table border=\"1\" class=\"dataframe\">\n  <thead>\n    <tr style=\"text-align: right;\">\n      <th></th>\n      <th>labels</th>\n      <th>t</th>\n      <th>B</th>\n      <th>D</th>\n    </tr>\n  </thead>\n  <tbody>\n    <tr>\n      <th>0</th>\n      <td>2015-01-01T00:00:00.000</td>\n      <td>2.7</td>\n      <td>0</td>\n      <td>0</td>\n    </tr>\n    <tr>\n      <th>1</th>\n      <td>2015-01-01T01:00:00.000</td>\n      <td>1.5</td>\n      <td>0</td>\n      <td>0</td>\n    </tr>\n    <tr>\n      <th>2</th>\n      <td>2015-01-01T02:00:00.000</td>\n      <td>0.4</td>\n      <td>0</td>\n      <td>0</td>\n    </tr>\n    <tr>\n      <th>3</th>\n      <td>2015-01-01T03:00:00.000</td>\n      <td>0.4</td>\n      <td>0</td>\n      <td>0</td>\n    </tr>\n    <tr>\n      <th>4</th>\n      <td>2015-01-01T04:00:00.000</td>\n      <td>0.2</td>\n      <td>0</td>\n      <td>0</td>\n    </tr>\n  </tbody>\n</table>\n</div>"
     },
     "execution_count": 28,
     "metadata": {},
     "output_type": "execute_result"
    }
   ],
   "source": [
    "df_weather = pd.read_excel(\"./data/weather.xlsx\")\n",
    "df_weather.head()"
   ],
   "metadata": {
    "collapsed": false,
    "ExecuteTime": {
     "end_time": "2024-04-04T16:34:25.607674Z",
     "start_time": "2024-04-04T16:34:25.123257Z"
    }
   },
   "id": "8959326e32c5d787",
   "execution_count": 28
  },
  {
   "cell_type": "code",
   "outputs": [
    {
     "data": {
      "text/plain": "<Figure size 640x480 with 1 Axes>",
      "image/png": "[encoded data removed]"
     },
     "metadata": {},
     "output_type": "display_data"
    }
   ],
   "source": [
    "df_weather[\"total\"] = df_weather[\"B\"] + df_weather[\"D\"]\n",
    "import matplotlib.pyplot as plt\n",
    "plt.plot(df_weather[\"total\"].to_list())\n",
    "plt.show()"
   ],
   "metadata": {
    "collapsed": false,
    "ExecuteTime": {
     "end_time": "2024-04-04T16:34:25.701995Z",
     "start_time": "2024-04-04T16:34:25.608673Z"
    }
   },
   "id": "24ec50d1230adcc8",
   "execution_count": 29
  },
  {
   "cell_type": "code",
   "outputs": [
    {
     "data": {
      "text/plain": "                    labels    t  B  D  total  pv_potential                time\n0  2015-01-01T00:00:00.000  2.7  0  0      0           0.0 2015-01-01 00:00:00\n1  2015-01-01T01:00:00.000  1.5  0  0      0           0.0 2015-01-01 01:00:00\n2  2015-01-01T02:00:00.000  0.4  0  0      0           0.0 2015-01-01 02:00:00\n3  2015-01-01T03:00:00.000  0.4  0  0      0           0.0 2015-01-01 03:00:00\n4  2015-01-01T04:00:00.000  0.2  0  0      0           0.0 2015-01-01 04:00:00",
      "text/html": "<div>\n<style scoped>\n    .dataframe tbody tr th:only-of-type {\n        vertical-align: middle;\n    }\n\n    .dataframe tbody tr th {\n        vertical-align: top;\n    }\n\n    .dataframe thead th {\n        text-align: right;\n    }\n</style>\n<table border=\"1\" class=\"dataframe\">\n  <thead>\n    <tr style=\"text-align: right;\">\n      <th></th>\n      <th>labels</th>\n      <th>t</th>\n      <th>B</th>\n      <th>D</th>\n      <th>total</th>\n      <th>pv_potential</th>\n      <th>time</th>\n    </tr>\n  </thead>\n  <tbody>\n    <tr>\n      <th>0</th>\n      <td>2015-01-01T00:00:00.000</td>\n      <td>2.7</td>\n      <td>0</td>\n      <td>0</td>\n      <td>0</td>\n      <td>0.0</td>\n      <td>2015-01-01 00:00:00</td>\n    </tr>\n    <tr>\n      <th>1</th>\n      <td>2015-01-01T01:00:00.000</td>\n      <td>1.5</td>\n      <td>0</td>\n      <td>0</td>\n      <td>0</td>\n      <td>0.0</td>\n      <td>2015-01-01 01:00:00</td>\n    </tr>\n    <tr>\n      <th>2</th>\n      <td>2015-01-01T02:00:00.000</td>\n      <td>0.4</td>\n      <td>0</td>\n      <td>0</td>\n      <td>0</td>\n      <td>0.0</td>\n      <td>2015-01-01 02:00:00</td>\n    </tr>\n    <tr>\n      <th>3</th>\n      <td>2015-01-01T03:00:00.000</td>\n      <td>0.4</td>\n      <td>0</td>\n      <td>0</td>\n      <td>0</td>\n      <td>0.0</td>\n      <td>2015-01-01 03:00:00</td>\n    </tr>\n    <tr>\n      <th>4</th>\n      <td>2015-01-01T04:00:00.000</td>\n      <td>0.2</td>\n      <td>0</td>\n      <td>0</td>\n      <td>0</td>\n      <td>0.0</td>\n      <td>2015-01-01 04:00:00</td>\n    </tr>\n  </tbody>\n</table>\n</div>"
     },
     "execution_count": 30,
     "metadata": {},
     "output_type": "execute_result"
    }
   ],
   "source": [
    "df_weather[\"pv_potential\"] = df_weather.apply(lambda x: pv_potential(x[\"B\"], x[\"D\"]), axis=1)\n",
    "df_weather[\"time\"] = pd.to_datetime(df_weather[\"labels\"])\n",
    "df_weather.head()"
   ],
   "metadata": {
    "collapsed": false,
    "ExecuteTime": {
     "end_time": "2024-04-04T16:34:25.762205Z",
     "start_time": "2024-04-04T16:34:25.702988Z"
    }
   },
   "id": "5db94a703103893c",
   "execution_count": 30
  },
  {
   "cell_type": "code",
   "outputs": [
    {
     "data": {
      "text/plain": "dict_keys(['COMMERCIAL', 'FARM', 'HIGH_DENSITY_RESIDENTIAL', 'INDUSTRIAL', 'RESIDENTIAL', 'RETAIL', 'TRANSPORT'])"
     },
     "execution_count": 31,
     "metadata": {},
     "output_type": "execute_result"
    }
   ],
   "source": [
    "dfs.keys()"
   ],
   "metadata": {
    "collapsed": false,
    "ExecuteTime": {
     "end_time": "2024-04-04T16:34:25.880239Z",
     "start_time": "2024-04-04T16:34:25.876624Z"
    }
   },
   "id": "5e7dc2effe9bae06",
   "execution_count": 31
  },
  {
   "cell_type": "code",
   "outputs": [],
   "source": [
    "df_industry = dfs[\"INDUSTRIAL\"]\n",
    "df_industry_winter = df_industry[df_industry[\"time\"].dt.date == pd.to_datetime(winter_day).date()]\n",
    "df_industry_summer = df_industry[df_industry[\"time\"].dt.date == pd.to_datetime(summer_day).date()]"
   ],
   "metadata": {
    "collapsed": false,
    "ExecuteTime": {
     "end_time": "2024-04-04T16:34:26.116124Z",
     "start_time": "2024-04-04T16:34:26.106830Z"
    }
   },
   "id": "47991b2adecc2aa7",
   "execution_count": 32
  },
  {
   "cell_type": "code",
   "outputs": [],
   "source": [
    "df_winter = df_weather[df_weather[\"time\"].dt.date == pd.to_datetime(winter_day).date()]\n",
    "df_summer = df_weather[df_weather[\"time\"].dt.date == pd.to_datetime(summer_day).date()]\n",
    "\n",
    "winter = {}\n",
    "summer = {}\n",
    "winter[\"pv_potential\"] = df_winter[\"pv_potential\"].to_list()\n",
    "summer[\"pv_potential\"] = df_summer[\"pv_potential\"].to_list()\n",
    "\n",
    "winter[\"powerPlantPotential\"] = [10000 for _ in range(len(winter[\"pv_potential\"]))]\n",
    "summer[\"powerPlantPotential\"] = [10000 for _ in range(len(summer[\"pv_potential\"]))]\n",
    "\n",
    "winter[\"gasPotential\"] = [2000000 for _ in range(len(winter[\"pv_potential\"]))]\n",
    "summer[\"gasPotential\"] = [2000000 for _ in range(len(summer[\"pv_potential\"]))]\n",
    "\n",
    "winter[\"heatingOil\"] = [1500000 for _ in range(len(winter[\"pv_potential\"]))]\n",
    "summer[\"heatingOil\"] = [1500000 for _ in range(len(summer[\"pv_potential\"]))]\n",
    "\n",
    "winter[\"districtHeatingPotential\"] = [x*0.1 for x in df_industry_winter[\"Electro\"].to_list()]\n",
    "summer[\"districtHeatingPotential\"] = [x*0.1 for x in df_industry_summer[\"Electro\"].to_list()]"
   ],
   "metadata": {
    "collapsed": false,
    "ExecuteTime": {
     "end_time": "2024-04-04T16:34:26.383840Z",
     "start_time": "2024-04-04T16:34:26.371683Z"
    }
   },
   "id": "8053067b3adc8408",
   "execution_count": 33
  },
  {
   "cell_type": "code",
   "outputs": [],
   "source": [
    "with open(f\"./data/loadprofiles/winter/potentials.json\", \"w\") as f:\n",
    "    json.dump(winter, f)\n",
    "    \n",
    "with open(f\"./data/loadprofiles/summer/potentials.json\", \"w\") as f:\n",
    "    json.dump(summer, f)"
   ],
   "metadata": {
    "collapsed": false,
    "ExecuteTime": {
     "end_time": "2024-04-04T16:34:26.635568Z",
     "start_time": "2024-04-04T16:34:26.631055Z"
    }
   },
   "id": "2ddb51f408d38450",
   "execution_count": 34
  },
  {
   "cell_type": "code",
   "outputs": [
    {
     "data": {
      "text/plain": "<Figure size 640x480 with 1 Axes>",
      "image/png": "[encoded data removed]"
     },
     "metadata": {},
     "output_type": "display_data"
    }
   ],
   "source": [
    "import matplotlib.pyplot as plt\n",
    "\n",
    "plt.plot(df_winter[\"pv_potential\"].to_list())\n",
    "plt.plot(df_summer[\"pv_potential\"].to_list())\n",
    "plt.legend([\"Winter\", \"Summer\"])\n",
    "plt.show()"
   ],
   "metadata": {
    "collapsed": false,
    "ExecuteTime": {
     "end_time": "2024-04-04T16:34:27.025136Z",
     "start_time": "2024-04-04T16:34:26.936510Z"
    }
   },
   "id": "6a1fe6db9fbefb59",
   "execution_count": 35
  },
  {
   "cell_type": "code",
   "outputs": [],
   "source": [],
   "metadata": {
    "collapsed": false
   },
   "id": "21df8d276792b951"
  }
 ],
 "metadata": {
  "kernelspec": {
   "display_name": "Python 3",
   "language": "python",
   "name": "python3"
  },
  "language_info": {
   "codemirror_mode": {
    "name": "ipython",
    "version": 2
   },
   "file_extension": ".py",
   "mimetype": "text/x-python",
   "name": "python",
   "nbconvert_exporter": "python",
   "pygments_lexer": "ipython2",
   "version": "2.7.6"
  }
 },
 "nbformat": 4,
 "nbformat_minor": 5
}
