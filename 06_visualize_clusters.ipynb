{
 "cells": [
  {
   "cell_type": "code",
   "execution_count": null,
   "metadata": {},
   "outputs": [],
   "source": [
    "import json\n",
    "import matplotlib.pyplot as plt\n",
    "import numpy as np\n",
    "import os\n",
    "import pandas as pd"
   ]
  },
  {
   "cell_type": "code",
   "execution_count": null,
   "metadata": {},
   "outputs": [],
   "source": [
    "output_path = 'hackHPI-parser/output.json'\n",
    "cluster_path = \"hackHPI-parser/our_output_new.json\""
   ]
  },
  {
   "cell_type": "code",
   "execution_count": null,
   "metadata": {},
   "outputs": [],
   "source": [
    "data = json.load(open(output_path))\n",
    "graph = data['graph']\n",
    "buildings = data['buildings']\n",
    "buildings_df = pd.DataFrame(buildings)\n",
    "areas = data['areas']\n",
    "areas_df = pd.DataFrame(areas)\n",
    "roads = data['roads']\n",
    "roads_df = pd.DataFrame(roads)\n",
    "\n",
    "roads_df"
   ]
  },
  {
   "cell_type": "code",
   "execution_count": null,
   "metadata": {},
   "outputs": [],
   "source": [
    "def get_roads(min_lat, max_lat, min_lon, max_lon, roads_df):\n",
    "    roads_df[\"lat\"] = roads_df[\"point\"].apply(lambda x: x[\"lat\"])\n",
    "    roads_df[\"lon\"] = roads_df[\"point\"].apply(lambda x: x[\"lon\"])\n",
    "    filtered_roads = roads_df[(roads_df[\"lat\"] >= min_lat) & (roads_df[\"lat\"] <= max_lat) & (roads_df[\"lon\"] >= min_lon) & (roads_df[\"lon\"] <= max_lon)]\n",
    "    return filtered_roads\n",
    "\n",
    "# get_roads(50, 53, 12, 14, roads_df)\n",
    "\n",
    "def plot_roads(filtered_roads, graph):\n",
    "    for road in filtered_roads:\n",
    "        road_id = road[\"id\"]\n",
    "        children_ids = graph[road_id][\"children\"]\n",
    "        children_ids = [child_id for child_id in children_ids if child_id in ]\n",
    "        print(children_ids)\n",
    "\n",
    "plot_roads(roads, graph)\n"
   ]
  },
  {
   "cell_type": "code",
   "execution_count": null,
   "metadata": {},
   "outputs": [],
   "source": [
    "def plot_cluster(min_lat, max_lat, min_lon, max_lon, buildings, outliers, pumps, connections):\n",
    "    # for building in buildings:\n",
    "    #     plt.plot(building[0], building[1], 'bo')\n",
    "    buildings_x = [building[0] for building in buildings]\n",
    "    buildings_y = [building[1] for building in buildings]\n",
    "    outliers_x = [outlier[0] for outlier in outliers]\n",
    "    outliers_y = [outlier[1] for outlier in outliers]\n",
    "    pumps_x = [pump[0] for pump in pumps]\n",
    "    pumps_y = [pump[1] for pump in pumps]\n",
    "    plt.scatter(buildings_x, buildings_y, c='b', marker='o', s=20)\n",
    "    plt.scatter(outliers_x, outliers_y, c='r', marker='o', s=20)\n",
    "    plt.scatter(pumps_x, pumps_y, c='y', marker='o', s=4)\n",
    "    for connection in connections:\n",
    "        if connection[0][0] < min_lat or connection[0][0] > max_lat or connection[0][1] < min_lon or connection[0][1] > max_lon:\n",
    "            continue\n",
    "        if connection[1][0] < min_lat or connection[1][0] > max_lat or connection[1][1] < min_lon or connection[1][1] > max_lon:\n",
    "            continue\n",
    "        plt.plot([connection[0][0], connection[1][0]], [connection[0][1], connection[1][1]], 'g-', linewidth=0.5)\n",
    "    plt.show()\n",
    "    "
   ]
  },
  {
   "cell_type": "code",
   "execution_count": null,
   "metadata": {},
   "outputs": [],
   "source": [
    "with open(cluster_path) as f:\n",
    "    data = json.load(f)\n",
    "\n",
    "clusters = data[\"clusters\"]\n",
    "for cluster in clusters:\n",
    "    buildings = cluster['buildings']\n",
    "    outliers = cluster['outliers']\n",
    "    pumps = cluster['pumps']\n",
    "    connections = cluster['connections']\n",
    "\n",
    "    map_points = buildings + outliers + pumps\n",
    "    min_lat = min([point[0] for point in map_points])\n",
    "    max_lat = max([point[0] for point in map_points])\n",
    "    min_lon = min([point[1] for point in map_points])\n",
    "    max_lon = max([point[1] for point in map_points])\n",
    "    plot_cluster(min_lat, max_lat, min_lon, max_lon, buildings, outliers, pumps, connections)\n"
   ]
  }
 ],
 "metadata": {
  "kernelspec": {
   "display_name": "hackHPI2024",
   "language": "python",
   "name": "python3"
  },
  "language_info": {
   "codemirror_mode": {
    "name": "ipython",
    "version": 3
   },
   "file_extension": ".py",
   "mimetype": "text/x-python",
   "name": "python",
   "nbconvert_exporter": "python",
   "pygments_lexer": "ipython3",
   "version": "3.9.5"
  }
 },
 "nbformat": 4,
 "nbformat_minor": 2
}
